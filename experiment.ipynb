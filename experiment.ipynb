{
    "cells": [
        {
            "cell_type": "code",
            "execution_count": 1,
            "metadata": {},
            "outputs": [
                {
                    "name": "stdout",
                    "output_type": "stream",
                    "text": [
                        "Requirement already satisfied: psycopg2-binary in /opt/homebrew/Caskroom/miniconda/base/lib/python3.12/site-packages (2.9.9)\n",
                        "Requirement already satisfied: cachetools in /opt/homebrew/Caskroom/miniconda/base/lib/python3.12/site-packages (5.4.0)\n",
                        "Requirement already satisfied: pandas in /opt/homebrew/Caskroom/miniconda/base/lib/python3.12/site-packages (2.2.2)\n",
                        "Requirement already satisfied: numpy>=1.26.0 in /opt/homebrew/Caskroom/miniconda/base/lib/python3.12/site-packages (from pandas) (2.0.1)\n",
                        "Requirement already satisfied: python-dateutil>=2.8.2 in /opt/homebrew/Caskroom/miniconda/base/lib/python3.12/site-packages (from pandas) (2.9.0)\n",
                        "Requirement already satisfied: pytz>=2020.1 in /opt/homebrew/Caskroom/miniconda/base/lib/python3.12/site-packages (from pandas) (2024.1)\n",
                        "Requirement already satisfied: tzdata>=2022.7 in /opt/homebrew/Caskroom/miniconda/base/lib/python3.12/site-packages (from pandas) (2024.1)\n",
                        "Requirement already satisfied: six>=1.5 in /opt/homebrew/Caskroom/miniconda/base/lib/python3.12/site-packages (from python-dateutil>=2.8.2->pandas) (1.16.0)\n",
                        "Requirement already satisfied: seaborn in /opt/homebrew/Caskroom/miniconda/base/lib/python3.12/site-packages (0.13.2)\n",
                        "Requirement already satisfied: numpy!=1.24.0,>=1.20 in /opt/homebrew/Caskroom/miniconda/base/lib/python3.12/site-packages (from seaborn) (2.0.1)\n",
                        "Requirement already satisfied: pandas>=1.2 in /opt/homebrew/Caskroom/miniconda/base/lib/python3.12/site-packages (from seaborn) (2.2.2)\n",
                        "Requirement already satisfied: matplotlib!=3.6.1,>=3.4 in /opt/homebrew/Caskroom/miniconda/base/lib/python3.12/site-packages (from seaborn) (3.9.1.post1)\n",
                        "Requirement already satisfied: contourpy>=1.0.1 in /opt/homebrew/Caskroom/miniconda/base/lib/python3.12/site-packages (from matplotlib!=3.6.1,>=3.4->seaborn) (1.2.1)\n",
                        "Requirement already satisfied: cycler>=0.10 in /opt/homebrew/Caskroom/miniconda/base/lib/python3.12/site-packages (from matplotlib!=3.6.1,>=3.4->seaborn) (0.12.1)\n",
                        "Requirement already satisfied: fonttools>=4.22.0 in /opt/homebrew/Caskroom/miniconda/base/lib/python3.12/site-packages (from matplotlib!=3.6.1,>=3.4->seaborn) (4.53.1)\n",
                        "Requirement already satisfied: kiwisolver>=1.3.1 in /opt/homebrew/Caskroom/miniconda/base/lib/python3.12/site-packages (from matplotlib!=3.6.1,>=3.4->seaborn) (1.4.5)\n",
                        "Requirement already satisfied: packaging>=20.0 in /opt/homebrew/Caskroom/miniconda/base/lib/python3.12/site-packages (from matplotlib!=3.6.1,>=3.4->seaborn) (23.2)\n",
                        "Requirement already satisfied: pillow>=8 in /opt/homebrew/Caskroom/miniconda/base/lib/python3.12/site-packages (from matplotlib!=3.6.1,>=3.4->seaborn) (10.4.0)\n",
                        "Requirement already satisfied: pyparsing>=2.3.1 in /opt/homebrew/Caskroom/miniconda/base/lib/python3.12/site-packages (from matplotlib!=3.6.1,>=3.4->seaborn) (3.1.2)\n",
                        "Requirement already satisfied: python-dateutil>=2.7 in /opt/homebrew/Caskroom/miniconda/base/lib/python3.12/site-packages (from matplotlib!=3.6.1,>=3.4->seaborn) (2.9.0)\n",
                        "Requirement already satisfied: pytz>=2020.1 in /opt/homebrew/Caskroom/miniconda/base/lib/python3.12/site-packages (from pandas>=1.2->seaborn) (2024.1)\n",
                        "Requirement already satisfied: tzdata>=2022.7 in /opt/homebrew/Caskroom/miniconda/base/lib/python3.12/site-packages (from pandas>=1.2->seaborn) (2024.1)\n",
                        "Requirement already satisfied: six>=1.5 in /opt/homebrew/Caskroom/miniconda/base/lib/python3.12/site-packages (from python-dateutil>=2.7->matplotlib!=3.6.1,>=3.4->seaborn) (1.16.0)\n",
                        "Requirement already satisfied: ipywidgets in /opt/homebrew/Caskroom/miniconda/base/lib/python3.12/site-packages (8.1.3)\n",
                        "Requirement already satisfied: comm>=0.1.3 in /opt/homebrew/Caskroom/miniconda/base/lib/python3.12/site-packages (from ipywidgets) (0.2.2)\n",
                        "Requirement already satisfied: ipython>=6.1.0 in /opt/homebrew/Caskroom/miniconda/base/lib/python3.12/site-packages (from ipywidgets) (8.26.0)\n",
                        "Requirement already satisfied: traitlets>=4.3.1 in /opt/homebrew/Caskroom/miniconda/base/lib/python3.12/site-packages (from ipywidgets) (5.14.3)\n",
                        "Requirement already satisfied: widgetsnbextension~=4.0.11 in /opt/homebrew/Caskroom/miniconda/base/lib/python3.12/site-packages (from ipywidgets) (4.0.11)\n",
                        "Requirement already satisfied: jupyterlab-widgets~=3.0.11 in /opt/homebrew/Caskroom/miniconda/base/lib/python3.12/site-packages (from ipywidgets) (3.0.11)\n",
                        "Requirement already satisfied: decorator in /opt/homebrew/Caskroom/miniconda/base/lib/python3.12/site-packages (from ipython>=6.1.0->ipywidgets) (5.1.1)\n",
                        "Requirement already satisfied: jedi>=0.16 in /opt/homebrew/Caskroom/miniconda/base/lib/python3.12/site-packages (from ipython>=6.1.0->ipywidgets) (0.19.1)\n",
                        "Requirement already satisfied: matplotlib-inline in /opt/homebrew/Caskroom/miniconda/base/lib/python3.12/site-packages (from ipython>=6.1.0->ipywidgets) (0.1.7)\n",
                        "Requirement already satisfied: prompt-toolkit<3.1.0,>=3.0.41 in /opt/homebrew/Caskroom/miniconda/base/lib/python3.12/site-packages (from ipython>=6.1.0->ipywidgets) (3.0.47)\n",
                        "Requirement already satisfied: pygments>=2.4.0 in /opt/homebrew/Caskroom/miniconda/base/lib/python3.12/site-packages (from ipython>=6.1.0->ipywidgets) (2.18.0)\n",
                        "Requirement already satisfied: stack-data in /opt/homebrew/Caskroom/miniconda/base/lib/python3.12/site-packages (from ipython>=6.1.0->ipywidgets) (0.6.2)\n",
                        "Requirement already satisfied: pexpect>4.3 in /opt/homebrew/Caskroom/miniconda/base/lib/python3.12/site-packages (from ipython>=6.1.0->ipywidgets) (4.9.0)\n",
                        "Requirement already satisfied: parso<0.9.0,>=0.8.3 in /opt/homebrew/Caskroom/miniconda/base/lib/python3.12/site-packages (from jedi>=0.16->ipython>=6.1.0->ipywidgets) (0.8.4)\n",
                        "Requirement already satisfied: ptyprocess>=0.5 in /opt/homebrew/Caskroom/miniconda/base/lib/python3.12/site-packages (from pexpect>4.3->ipython>=6.1.0->ipywidgets) (0.7.0)\n",
                        "Requirement already satisfied: wcwidth in /opt/homebrew/Caskroom/miniconda/base/lib/python3.12/site-packages (from prompt-toolkit<3.1.0,>=3.0.41->ipython>=6.1.0->ipywidgets) (0.2.13)\n",
                        "Requirement already satisfied: executing>=1.2.0 in /opt/homebrew/Caskroom/miniconda/base/lib/python3.12/site-packages (from stack-data->ipython>=6.1.0->ipywidgets) (2.0.1)\n",
                        "Requirement already satisfied: asttokens>=2.1.0 in /opt/homebrew/Caskroom/miniconda/base/lib/python3.12/site-packages (from stack-data->ipython>=6.1.0->ipywidgets) (2.4.1)\n",
                        "Requirement already satisfied: pure-eval in /opt/homebrew/Caskroom/miniconda/base/lib/python3.12/site-packages (from stack-data->ipython>=6.1.0->ipywidgets) (0.2.3)\n",
                        "Requirement already satisfied: six>=1.12.0 in /opt/homebrew/Caskroom/miniconda/base/lib/python3.12/site-packages (from asttokens>=2.1.0->stack-data->ipython>=6.1.0->ipywidgets) (1.16.0)\n"
                    ]
                }
            ],
            "source": [
                "! pip install psycopg2-binary\n",
                "! pip install cachetools\n",
                "! pip install pandas\n",
                "! pip install seaborn\n",
                "! pip install ipywidgets\n",
                "\n",
                "import psycopg2\n",
                "import psycopg2.extras\n",
                "\n",
                "import numpy as np\n",
                "import pandas as pd\n",
                "import seaborn as sns\n",
                "import matplotlib.pyplot as plt\n",
                "\n",
                "import heapq as hq\n",
                "\n",
                "from cachetools import cached, TTLCache\n",
                "\n",
                "import time"
            ]
        },
        {
            "cell_type": "code",
            "execution_count": 2,
            "metadata": {},
            "outputs": [],
            "source": [
                "sns.set(rc={'figure.figsize':(15, 10)})"
            ]
        },
        {
            "cell_type": "code",
            "execution_count": 3,
            "metadata": {},
            "outputs": [],
            "source": [
                "def create_connection():\n",
                "    dbname = 'fileserver'\n",
                "    user = 'user'\n",
                "    password = 'secret'\n",
                "    host = '192.168.0.2'\n",
                "    return psycopg2.connect(dbname=dbname, user=user, password=password, host=host)"
            ]
        },
        {
            "cell_type": "code",
            "execution_count": 4,
            "metadata": {},
            "outputs": [],
            "source": [
                "def fetch_devices(connection):\n",
                "\twith connection.cursor() as cursor:\n",
                "\t\tcursor.execute(f\"\"\"SELECT DISTINCT device_id, sensor_name FROM sensor_data\"\"\")\n",
                "\t\treturn [(row[0], row[1]) for row in cursor.fetchall()]\n",
                "\n",
                "def fetch_tail(connection, device_id, sensor_name, include_timestamp=False):\n",
                "\twith connection.cursor() as cursor:\n",
                "\t\tsql = f\"\"\"WITH last_received_at AS (\n",
                "\t\t\t\t\tSELECT MAX(received_at) as last_received_at\n",
                "\t\t\t\t\tFROM sensor_data\n",
                "\t\t\t\t\tJOIN sensor_data_weights USING (id)\n",
                "\t\t\t\t\tWHERE device_id = %s AND sensor_name = %s\n",
                "\t\t\t\t), last_peak AS (\n",
                "\t\t\t\t\tSELECT *\n",
                "\t\t\t\t\tFROM sensor_data\n",
                "\t\t\t\t\tJOIN sensor_data_weights USING (id)\n",
                "\t\t\t\t\tWHERE device_id = %s AND sensor_name = %s\n",
                "\t\t\t\t\tAND received_at > (SELECT last_received_at - interval '5 minute'  FROM last_received_at)\n",
                "\t\t\t\t\tORDER BY weight DESC\n",
                "\t\t\t\t\tLIMIT 1\n",
                "\t\t\t\t)\n",
                "\t\t\t\tSELECT id, sensor_value {', received_at ' if include_timestamp else ''}\n",
                "\t\t\t\tFROM sensor_data\n",
                "\t\t\t\tWHERE device_id = %s AND sensor_name = %s AND id >= COALESCE((SELECT id FROM last_peak), 0)\n",
                "\t\t\t\tORDER BY received_at ASC\"\"\"\n",
                "\t\tcursor.execute(sql, (device_id, sensor_name, device_id, sensor_name, device_id, sensor_name))\n",
                "\t\t\n",
                "\t\tcolumns = ['id', 'sensor_value']\n",
                "\t\tif include_timestamp:\n",
                "\t\t\tcolumns.append('received_at')\n",
                "\t\treturn pd.DataFrame.from_records(cursor.fetchall(), index=['id'], columns=columns)\n",
                "\n",
                "def fetch(connection, device_id, sensor_name, include_timestamp=False):\n",
                "\twith connection.cursor() as cursor:\n",
                "\t\tsql = f\"\"\"SELECT id, sensor_value {', received_at ' if include_timestamp else ''} \n",
                "\t\t\tFROM sensor_data\n",
                "\t\t\tWHERE device_id = %s AND sensor_name = %s\n",
                "\t\t\tORDER BY received_at ASC\"\"\"\n",
                "\t\tcursor.execute(sql, (device_id, sensor_name))\n",
                "\t\t\n",
                "\t\tcolumns = ['id', 'sensor_value']\n",
                "\t\tif include_timestamp:\n",
                "\t\t\tcolumns.append('received_at')\n",
                "\t\treturn pd.DataFrame.from_records(cursor.fetchall(), index=['id'], columns=columns)\n",
                "\n",
                "def fetch_smart_ui(connection, device_id, sensor_name, limit = 1000):\n",
                "\twith connection.cursor() as cursor:\n",
                "\t\tsql = f\"\"\"(SELECT id, sensor_value, received_at\n",
                "\t\t\t\tFROM sensor_data\n",
                "\t\t\t\tWHERE device_id = %s AND sensor_name = %s\n",
                "\t\t\t\tORDER BY id ASC LIMIT 1)\n",
                "\t\t\t\tUNION\n",
                "\t\t\t\t(SELECT id, sensor_value, received_at\n",
                "\t\t\t\tFROM sensor_data\n",
                "\t\t\t\tJOIN sensor_data_weights USING (id)\n",
                "\t\t\t\tWHERE device_id = %s AND sensor_name = %s\n",
                "\t\t\t\tORDER BY weight DESC LIMIT %s)\n",
                "\t\t\t\tUNION\n",
                "\t\t\t\t(SELECT id, sensor_value, received_at\n",
                "\t\t\t\tFROM sensor_data\n",
                "\t\t\t\tWHERE device_id = %s AND sensor_name = %s\n",
                "\t\t\t\tORDER BY id DESC LIMIT 1)\"\"\"\n",
                "\t\tcursor.execute(sql, (device_id, sensor_name, device_id, sensor_name, limit, device_id, sensor_name))\n",
                "\t\t\n",
                "\t\tcolumns = ['id', 'sensor_value', 'received_at']\n",
                "\t\treturn pd.DataFrame.from_records(cursor.fetchall(), index=['id'], columns=columns)\n",
                "\n",
                "def fetch_statistics(connection, sensor, signal, device_id):\n",
                "\twith connection.cursor() as cursor:\n",
                "\t\tsql = f\"\"\"SELECT avg({signal}), stddev_pop({signal}) FROM sensor_data_{sensor} WHERE device_id = %s\"\"\"\n",
                "\t\tcursor.execute(sql, (device_id,))\n",
                "\t\treturn cursor.fetchone()\n",
                "\n",
                "def fetch_weights(connection, sensor, signal, device_id):\n",
                "\twith connection.cursor() as cursor:\n",
                "\t\tsql = f\"\"\"\tSELECT id, weight\n",
                "\t\t\t\t\tFROM sensor_data_{sensor}\n",
                "\t\t\t\t\tJOIN weights_{sensor}_{signal} USING (id)\n",
                "\t\t\t\t\tWHERE device_id = %s\n",
                "\t\t\t\t\tORDER BY id\"\"\"\n",
                "\t\tcursor.execute(sql, (device_id,))\n",
                "\n",
                "\t\tcolumns = ['id', 'weight']\n",
                "\t\tdf = pd.DataFrame.from_records(cursor.fetchall(), index=['id'], columns=columns)\n",
                "\t\tdf.weight = df.weight.astype('float')\n",
                "\t\treturn df\n",
                "\n",
                "def fetch_scd30_ppm():\n",
                "\twith create_connection() as connection:\n",
                "\t\treturn fetch(connection, 3, 'ppm', include_timestamp=True)\n",
                "\n",
                "def fetch_scd30_ppm_smart(limit = 1000):\n",
                "\twith create_connection() as connection:\n",
                "\t\treturn fetch_smart_ui(connection, 3, 'ppm', limit)\n",
                "\n",
                "def fetch_scd30_ppm_weights():\n",
                "\twith create_connection() as connection:\n",
                "\t\treturn fetch_weights(connection, 'scd30', 'ppm', 'zero')\n",
                "\n",
                "def fetch_sgp40_voc():\n",
                "\twith create_connection() as connection:\n",
                "\t\treturn fetch(connection, 'sgp40', 'voc', 'zero', include_timestamp=True)"
            ]
        },
        {
            "cell_type": "code",
            "execution_count": 5,
            "metadata": {},
            "outputs": [],
            "source": [
                "def remove_old_data(connection):\n",
                "\twith connection.cursor() as cursor:\n",
                "\t\tcursor.execute(f\"\"\"DELETE FROM sensor_data\n",
                "\t\tWHERE received_at < now() - interval '1 week'\"\"\")\n",
                "\n",
                "def update_weight(connection, series):\n",
                "\twith connection.cursor() as cursor:\n",
                "\t\tsql = f\"\"\"INSERT INTO sensor_data_weights (id, weight) VALUES %s\n",
                "\t\tON CONFLICT (id) DO UPDATE SET weight = EXCLUDED.weight\n",
                "\t\tWHERE sensor_data_weights.weight < EXCLUDED.weight\"\"\"\n",
                "\t\tdata = [(id, weight) for id, weight in series.items()]\n",
                "\t\tpsycopg2.extras.execute_values(cursor, sql, data)"
            ]
        },
        {
            "cell_type": "code",
            "execution_count": 6,
            "metadata": {},
            "outputs": [],
            "source": [
                "def calculate_weights(data, ratio = 1):\n",
                "    y = data\n",
                "    x = np.arange(len(y))\n",
                "    indeces = {0:0, len(y)-1:0}\n",
                "\n",
                "    processed = 2\n",
                "    limit = max(10, int(len(data) * ratio))\n",
                "\n",
                "    queue = []\n",
                "    hq.heappush(queue, (0, (0, len(y)-1)))\n",
                "\n",
                "    while queue and processed < limit:\n",
                "        _, (left, right) = hq.heappop(queue)\n",
                "\n",
                "        if right - left == 1:\n",
                "            continue\n",
                "\n",
                "        y_range = y[left:right + 1]\n",
                "        x_range = x[left:right + 1]\n",
                "        \n",
                "        x1, y1, x2, y2 = x_range[0], y_range[0], x_range[-1], y_range[-1]\n",
                "        a = (y2 - y1) / (x2 - x1)\n",
                "        b = -x1 * (y2 - y1) / (x2 - x1) + y1\n",
                "        y_hat = a*x_range + b\n",
                "        diff = np.abs(y_range - y_hat)\n",
                "        diff = diff[1:-1]\n",
                "\n",
                "        i = np.argmax(diff)\n",
                "        error = diff[i]\n",
                "        i += left + 1\n",
                "\n",
                "        indeces[i] = error\n",
                "        hq.heappush(queue, (-error, (left, i)))\n",
                "        hq.heappush(queue, (-error, (i, right)))\n",
                "        processed += 1 \n",
                "\n",
                "    indeces = dict(sorted(indeces.items(), key=lambda item: item[0]))\n",
                "    return np.array([indeces[x] if x in indeces.keys() else 0 for x in x])"
            ]
        },
        {
            "cell_type": "code",
            "execution_count": 7,
            "metadata": {},
            "outputs": [],
            "source": [
                "def calculate_weights_for_series(series, ratio=1):\n",
                "    data = series.to_numpy()\n",
                "    start = time.time()\n",
                "    weight = calculate_weights(data, ratio)\n",
                "    end = time.time()\n",
                "    print(f\"weight calculation took {end-start:.2f}\")\n",
                "\n",
                "    return pd.Series(index=series.index, data=weight)"
            ]
        },
        {
            "cell_type": "code",
            "execution_count": 8,
            "metadata": {},
            "outputs": [],
            "source": [
                "def process_weights():\n",
                "    with create_connection() as connection:\n",
                "            remove_old_data(connection)\n",
                "            sensor_streams = fetch_devices(connection)\n",
                "            for device_id, sensor_name in sensor_streams:\n",
                "                df = fetch_tail(connection, device_id, sensor_name)\n",
                "                \n",
                "                print(f\"{device_id}/{sensor_name} tail length {len(df)}\")\n",
                "                \n",
                "                df.sensor_value = df.sensor_value.astype(float)\n",
                "\n",
                "                if len(df.sensor_value) == 0:\n",
                "                     continue\n",
                "                \n",
                "                weights = calculate_weights_for_series(df.sensor_value)\n",
                "                weights = weights[weights > 0]\n",
                "                update_weight(connection, weights)\n",
                "    connection.commit()"
            ]
        },
        {
            "cell_type": "code",
            "execution_count": 9,
            "metadata": {},
            "outputs": [
                {
                    "name": "stdout",
                    "output_type": "stream",
                    "text": [
                        "3/humidity tail length 128\n",
                        "weight calculation took 0.00\n",
                        "3/ppm tail length 114\n",
                        "weight calculation took 0.00\n",
                        "3/temperature tail length 141\n",
                        "weight calculation took 0.00\n",
                        "3/voc tail length 212\n",
                        "weight calculation took 0.00\n"
                    ]
                }
            ],
            "source": [
                "process_weights()"
            ]
        },
        {
            "cell_type": "code",
            "execution_count": 10,
            "metadata": {},
            "outputs": [],
            "source": [
                "data = fetch(create_connection(), 3, 'ppm')"
            ]
        },
        {
            "cell_type": "code",
            "execution_count": 11,
            "metadata": {},
            "outputs": [
                {
                    "data": {
                        "text/html": [
                            "<div>\n",
                            "<style scoped>\n",
                            "    .dataframe tbody tr th:only-of-type {\n",
                            "        vertical-align: middle;\n",
                            "    }\n",
                            "\n",
                            "    .dataframe tbody tr th {\n",
                            "        vertical-align: top;\n",
                            "    }\n",
                            "\n",
                            "    .dataframe thead th {\n",
                            "        text-align: right;\n",
                            "    }\n",
                            "</style>\n",
                            "<table border=\"1\" class=\"dataframe\">\n",
                            "  <thead>\n",
                            "    <tr style=\"text-align: right;\">\n",
                            "      <th></th>\n",
                            "      <th>sensor_value</th>\n",
                            "    </tr>\n",
                            "    <tr>\n",
                            "      <th>id</th>\n",
                            "      <th></th>\n",
                            "    </tr>\n",
                            "  </thead>\n",
                            "  <tbody>\n",
                            "    <tr>\n",
                            "      <th>1254900</th>\n",
                            "      <td>629.777282714844</td>\n",
                            "    </tr>\n",
                            "    <tr>\n",
                            "      <th>1254904</th>\n",
                            "      <td>629.920104980469</td>\n",
                            "    </tr>\n",
                            "    <tr>\n",
                            "      <th>1254909</th>\n",
                            "      <td>630.260192871094</td>\n",
                            "    </tr>\n",
                            "    <tr>\n",
                            "      <th>1254913</th>\n",
                            "      <td>631.033447265625</td>\n",
                            "    </tr>\n",
                            "    <tr>\n",
                            "      <th>1254918</th>\n",
                            "      <td>631.673583984375</td>\n",
                            "    </tr>\n",
                            "    <tr>\n",
                            "      <th>...</th>\n",
                            "      <td>...</td>\n",
                            "    </tr>\n",
                            "    <tr>\n",
                            "      <th>2448236</th>\n",
                            "      <td>635.947082519531</td>\n",
                            "    </tr>\n",
                            "    <tr>\n",
                            "      <th>2448249</th>\n",
                            "      <td>634.531921386719</td>\n",
                            "    </tr>\n",
                            "    <tr>\n",
                            "      <th>2448253</th>\n",
                            "      <td>634.576782226562</td>\n",
                            "    </tr>\n",
                            "    <tr>\n",
                            "      <th>2448268</th>\n",
                            "      <td>634.186218261719</td>\n",
                            "    </tr>\n",
                            "    <tr>\n",
                            "      <th>2448271</th>\n",
                            "      <td>634.1669921875</td>\n",
                            "    </tr>\n",
                            "  </tbody>\n",
                            "</table>\n",
                            "<p>265249 rows × 1 columns</p>\n",
                            "</div>"
                        ],
                        "text/plain": [
                            "             sensor_value\n",
                            "id                       \n",
                            "1254900  629.777282714844\n",
                            "1254904  629.920104980469\n",
                            "1254909  630.260192871094\n",
                            "1254913  631.033447265625\n",
                            "1254918  631.673583984375\n",
                            "...                   ...\n",
                            "2448236  635.947082519531\n",
                            "2448249  634.531921386719\n",
                            "2448253  634.576782226562\n",
                            "2448268  634.186218261719\n",
                            "2448271    634.1669921875\n",
                            "\n",
                            "[265249 rows x 1 columns]"
                        ]
                    },
                    "execution_count": 11,
                    "metadata": {},
                    "output_type": "execute_result"
                }
            ],
            "source": [
                "data"
            ]
        },
        {
            "cell_type": "code",
            "execution_count": 12,
            "metadata": {},
            "outputs": [
                {
                    "ename": "UndefinedTable",
                    "evalue": "relation \"sensor_data_scd30\" does not exist\nLINE 2:      FROM sensor_data_scd30\n                  ^\n",
                    "output_type": "error",
                    "traceback": [
                        "\u001b[0;31m---------------------------------------------------------------------------\u001b[0m",
                        "\u001b[0;31mUndefinedTable\u001b[0m                            Traceback (most recent call last)",
                        "Cell \u001b[0;32mIn[12], line 1\u001b[0m\n\u001b[0;32m----> 1\u001b[0m weights \u001b[38;5;241m=\u001b[39m \u001b[43mfetch_scd30_ppm_weights\u001b[49m\u001b[43m(\u001b[49m\u001b[43m)\u001b[49m\n\u001b[1;32m      2\u001b[0m weights[\u001b[38;5;124m'\u001b[39m\u001b[38;5;124mlog_weight\u001b[39m\u001b[38;5;124m'\u001b[39m] \u001b[38;5;241m=\u001b[39m np\u001b[38;5;241m.\u001b[39mlog(weights\u001b[38;5;241m.\u001b[39mweight)\n\u001b[1;32m      3\u001b[0m \u001b[38;5;66;03m#sns.histplot(data=weights, x=\"log_weight\")\u001b[39;00m\n",
                        "Cell \u001b[0;32mIn[4], line 97\u001b[0m, in \u001b[0;36mfetch_scd30_ppm_weights\u001b[0;34m()\u001b[0m\n\u001b[1;32m     95\u001b[0m \u001b[38;5;28;01mdef\u001b[39;00m \u001b[38;5;21mfetch_scd30_ppm_weights\u001b[39m():\n\u001b[1;32m     96\u001b[0m \t\u001b[38;5;28;01mwith\u001b[39;00m create_connection() \u001b[38;5;28;01mas\u001b[39;00m connection:\n\u001b[0;32m---> 97\u001b[0m \t\t\u001b[38;5;28;01mreturn\u001b[39;00m \u001b[43mfetch_weights\u001b[49m\u001b[43m(\u001b[49m\u001b[43mconnection\u001b[49m\u001b[43m,\u001b[49m\u001b[43m \u001b[49m\u001b[38;5;124;43m'\u001b[39;49m\u001b[38;5;124;43mscd30\u001b[39;49m\u001b[38;5;124;43m'\u001b[39;49m\u001b[43m,\u001b[49m\u001b[43m \u001b[49m\u001b[38;5;124;43m'\u001b[39;49m\u001b[38;5;124;43mppm\u001b[39;49m\u001b[38;5;124;43m'\u001b[39;49m\u001b[43m,\u001b[49m\u001b[43m \u001b[49m\u001b[38;5;124;43m'\u001b[39;49m\u001b[38;5;124;43mzero\u001b[39;49m\u001b[38;5;124;43m'\u001b[39;49m\u001b[43m)\u001b[49m\n",
                        "Cell \u001b[0;32mIn[4], line 80\u001b[0m, in \u001b[0;36mfetch_weights\u001b[0;34m(connection, sensor, signal, device_id)\u001b[0m\n\u001b[1;32m     74\u001b[0m \u001b[38;5;28;01mwith\u001b[39;00m connection\u001b[38;5;241m.\u001b[39mcursor() \u001b[38;5;28;01mas\u001b[39;00m cursor:\n\u001b[1;32m     75\u001b[0m \tsql \u001b[38;5;241m=\u001b[39m \u001b[38;5;124mf\u001b[39m\u001b[38;5;124m\"\"\"\u001b[39m\u001b[38;5;124m\tSELECT id, weight\u001b[39m\n\u001b[1;32m     76\u001b[0m \u001b[38;5;124m\t\t\t\tFROM sensor_data_\u001b[39m\u001b[38;5;132;01m{\u001b[39;00msensor\u001b[38;5;132;01m}\u001b[39;00m\n\u001b[1;32m     77\u001b[0m \u001b[38;5;124m\t\t\t\tJOIN weights_\u001b[39m\u001b[38;5;132;01m{\u001b[39;00msensor\u001b[38;5;132;01m}\u001b[39;00m\u001b[38;5;124m_\u001b[39m\u001b[38;5;132;01m{\u001b[39;00msignal\u001b[38;5;132;01m}\u001b[39;00m\u001b[38;5;124m USING (id)\u001b[39m\n\u001b[1;32m     78\u001b[0m \u001b[38;5;124m\t\t\t\tWHERE device_id = %s\u001b[39m\n\u001b[1;32m     79\u001b[0m \u001b[38;5;124m\t\t\t\tORDER BY id\u001b[39m\u001b[38;5;124m\"\"\"\u001b[39m\n\u001b[0;32m---> 80\u001b[0m \t\u001b[43mcursor\u001b[49m\u001b[38;5;241;43m.\u001b[39;49m\u001b[43mexecute\u001b[49m\u001b[43m(\u001b[49m\u001b[43msql\u001b[49m\u001b[43m,\u001b[49m\u001b[43m \u001b[49m\u001b[43m(\u001b[49m\u001b[43mdevice_id\u001b[49m\u001b[43m,\u001b[49m\u001b[43m)\u001b[49m\u001b[43m)\u001b[49m\n\u001b[1;32m     82\u001b[0m \tcolumns \u001b[38;5;241m=\u001b[39m [\u001b[38;5;124m'\u001b[39m\u001b[38;5;124mid\u001b[39m\u001b[38;5;124m'\u001b[39m, \u001b[38;5;124m'\u001b[39m\u001b[38;5;124mweight\u001b[39m\u001b[38;5;124m'\u001b[39m]\n\u001b[1;32m     83\u001b[0m \tdf \u001b[38;5;241m=\u001b[39m pd\u001b[38;5;241m.\u001b[39mDataFrame\u001b[38;5;241m.\u001b[39mfrom_records(cursor\u001b[38;5;241m.\u001b[39mfetchall(), index\u001b[38;5;241m=\u001b[39m[\u001b[38;5;124m'\u001b[39m\u001b[38;5;124mid\u001b[39m\u001b[38;5;124m'\u001b[39m], columns\u001b[38;5;241m=\u001b[39mcolumns)\n",
                        "\u001b[0;31mUndefinedTable\u001b[0m: relation \"sensor_data_scd30\" does not exist\nLINE 2:      FROM sensor_data_scd30\n                  ^\n"
                    ]
                }
            ],
            "source": [
                "weights = fetch_scd30_ppm_weights()\n",
                "weights['log_weight'] = np.log(weights.weight)\n",
                "#sns.histplot(data=weights, x=\"log_weight\")\n",
                "\n",
                "mean_weight = np.mean(weights.weight)\n",
                "median_weight = np.median(weights.weight)\n",
                "mean_log_weight = np.mean(weights.log_weight)\n",
                "median_log_weight = np.median(weights.log_weight)\n",
                "\n",
                "print(f\"mean: {mean_weight}, median: {median_weight}, mean_log: {mean_log_weight}, median_log:{median_log_weight}\")\n",
                "\n",
                "print(len(weights.weight[weights.weight > mean_weight]))\n",
                "print(len(weights.weight[weights.weight > median_weight]))\n",
                "print(len(weights.log_weight[weights.log_weight > mean_log_weight]))\n",
                "print(len(weights.log_weight[weights.log_weight > median_log_weight]))\n"
            ]
        },
        {
            "cell_type": "code",
            "execution_count": null,
            "metadata": {},
            "outputs": [
                {
                    "name": "stdout",
                    "output_type": "stream",
                    "text": [
                        "1002 265285\n"
                    ]
                },
                {
                    "ename": "KeyboardInterrupt",
                    "evalue": "",
                    "output_type": "error",
                    "traceback": [
                        "\u001b[0;31m---------------------------------------------------------------------------\u001b[0m",
                        "\u001b[0;31mKeyboardInterrupt\u001b[0m                         Traceback (most recent call last)",
                        "Cell \u001b[0;32mIn[72], line 7\u001b[0m\n\u001b[1;32m      5\u001b[0m \u001b[38;5;28mprint\u001b[39m(\u001b[38;5;28mlen\u001b[39m(smart), \u001b[38;5;28mlen\u001b[39m(original))\n\u001b[1;32m      6\u001b[0m graph \u001b[38;5;241m=\u001b[39m pd\u001b[38;5;241m.\u001b[39mconcat([original, smart], ignore_index\u001b[38;5;241m=\u001b[39m\u001b[38;5;28;01mTrue\u001b[39;00m)\n\u001b[0;32m----> 7\u001b[0m \u001b[43msns\u001b[49m\u001b[38;5;241;43m.\u001b[39;49m\u001b[43mlineplot\u001b[49m\u001b[43m(\u001b[49m\u001b[43mdata\u001b[49m\u001b[38;5;241;43m=\u001b[39;49m\u001b[43mgraph\u001b[49m\u001b[43m,\u001b[49m\u001b[43m \u001b[49m\u001b[43mx\u001b[49m\u001b[38;5;241;43m=\u001b[39;49m\u001b[38;5;124;43m'\u001b[39;49m\u001b[38;5;124;43mreceived_at\u001b[39;49m\u001b[38;5;124;43m'\u001b[39;49m\u001b[43m,\u001b[49m\u001b[43m \u001b[49m\u001b[43my\u001b[49m\u001b[38;5;241;43m=\u001b[39;49m\u001b[38;5;124;43m'\u001b[39;49m\u001b[38;5;124;43msensor_value\u001b[39;49m\u001b[38;5;124;43m'\u001b[39;49m\u001b[43m,\u001b[49m\u001b[43m \u001b[49m\u001b[43mhue\u001b[49m\u001b[38;5;241;43m=\u001b[39;49m\u001b[38;5;124;43m'\u001b[39;49m\u001b[38;5;124;43mtype\u001b[39;49m\u001b[38;5;124;43m'\u001b[39;49m\u001b[43m)\u001b[49m\n",
                        "File \u001b[0;32m/opt/homebrew/Caskroom/miniconda/base/lib/python3.12/site-packages/seaborn/relational.py:515\u001b[0m, in \u001b[0;36mlineplot\u001b[0;34m(data, x, y, hue, size, style, units, weights, palette, hue_order, hue_norm, sizes, size_order, size_norm, dashes, markers, style_order, estimator, errorbar, n_boot, seed, orient, sort, err_style, err_kws, legend, ci, ax, **kwargs)\u001b[0m\n\u001b[1;32m    512\u001b[0m color \u001b[38;5;241m=\u001b[39m kwargs\u001b[38;5;241m.\u001b[39mpop(\u001b[38;5;124m\"\u001b[39m\u001b[38;5;124mcolor\u001b[39m\u001b[38;5;124m\"\u001b[39m, kwargs\u001b[38;5;241m.\u001b[39mpop(\u001b[38;5;124m\"\u001b[39m\u001b[38;5;124mc\u001b[39m\u001b[38;5;124m\"\u001b[39m, \u001b[38;5;28;01mNone\u001b[39;00m))\n\u001b[1;32m    513\u001b[0m kwargs[\u001b[38;5;124m\"\u001b[39m\u001b[38;5;124mcolor\u001b[39m\u001b[38;5;124m\"\u001b[39m] \u001b[38;5;241m=\u001b[39m _default_color(ax\u001b[38;5;241m.\u001b[39mplot, hue, color, kwargs)\n\u001b[0;32m--> 515\u001b[0m \u001b[43mp\u001b[49m\u001b[38;5;241;43m.\u001b[39;49m\u001b[43mplot\u001b[49m\u001b[43m(\u001b[49m\u001b[43max\u001b[49m\u001b[43m,\u001b[49m\u001b[43m \u001b[49m\u001b[43mkwargs\u001b[49m\u001b[43m)\u001b[49m\n\u001b[1;32m    516\u001b[0m \u001b[38;5;28;01mreturn\u001b[39;00m ax\n",
                        "File \u001b[0;32m/opt/homebrew/Caskroom/miniconda/base/lib/python3.12/site-packages/seaborn/relational.py:295\u001b[0m, in \u001b[0;36m_LinePlotter.plot\u001b[0;34m(self, ax, kws)\u001b[0m\n\u001b[1;32m    291\u001b[0m     grouped \u001b[38;5;241m=\u001b[39m sub_data\u001b[38;5;241m.\u001b[39mgroupby(orient, sort\u001b[38;5;241m=\u001b[39m\u001b[38;5;28mself\u001b[39m\u001b[38;5;241m.\u001b[39msort)\n\u001b[1;32m    292\u001b[0m     \u001b[38;5;66;03m# Could pass as_index=False instead of reset_index,\u001b[39;00m\n\u001b[1;32m    293\u001b[0m     \u001b[38;5;66;03m# but that fails on a corner case with older pandas.\u001b[39;00m\n\u001b[1;32m    294\u001b[0m     sub_data \u001b[38;5;241m=\u001b[39m (\n\u001b[0;32m--> 295\u001b[0m         \u001b[43mgrouped\u001b[49m\n\u001b[1;32m    296\u001b[0m \u001b[43m        \u001b[49m\u001b[38;5;241;43m.\u001b[39;49m\u001b[43mapply\u001b[49m\u001b[43m(\u001b[49m\u001b[43magg\u001b[49m\u001b[43m,\u001b[49m\u001b[43m \u001b[49m\u001b[43mother\u001b[49m\u001b[43m,\u001b[49m\u001b[43m \u001b[49m\u001b[38;5;241;43m*\u001b[39;49m\u001b[38;5;241;43m*\u001b[39;49m\u001b[43mgroupby_apply_include_groups\u001b[49m\u001b[43m(\u001b[49m\u001b[38;5;28;43;01mFalse\u001b[39;49;00m\u001b[43m)\u001b[49m\u001b[43m)\u001b[49m\n\u001b[1;32m    297\u001b[0m         \u001b[38;5;241m.\u001b[39mreset_index()\n\u001b[1;32m    298\u001b[0m     )\n\u001b[1;32m    299\u001b[0m \u001b[38;5;28;01melse\u001b[39;00m:\n\u001b[1;32m    300\u001b[0m     sub_data[\u001b[38;5;124mf\u001b[39m\u001b[38;5;124m\"\u001b[39m\u001b[38;5;132;01m{\u001b[39;00mother\u001b[38;5;132;01m}\u001b[39;00m\u001b[38;5;124mmin\u001b[39m\u001b[38;5;124m\"\u001b[39m] \u001b[38;5;241m=\u001b[39m np\u001b[38;5;241m.\u001b[39mnan\n",
                        "File \u001b[0;32m/opt/homebrew/Caskroom/miniconda/base/lib/python3.12/site-packages/pandas/core/groupby/groupby.py:1819\u001b[0m, in \u001b[0;36mGroupBy.apply\u001b[0;34m(self, func, include_groups, *args, **kwargs)\u001b[0m\n\u001b[1;32m   1816\u001b[0m     f \u001b[38;5;241m=\u001b[39m func\n\u001b[1;32m   1818\u001b[0m \u001b[38;5;28;01mif\u001b[39;00m \u001b[38;5;129;01mnot\u001b[39;00m include_groups:\n\u001b[0;32m-> 1819\u001b[0m     \u001b[38;5;28;01mreturn\u001b[39;00m \u001b[38;5;28;43mself\u001b[39;49m\u001b[38;5;241;43m.\u001b[39;49m\u001b[43m_python_apply_general\u001b[49m\u001b[43m(\u001b[49m\u001b[43mf\u001b[49m\u001b[43m,\u001b[49m\u001b[43m \u001b[49m\u001b[38;5;28;43mself\u001b[39;49m\u001b[38;5;241;43m.\u001b[39;49m\u001b[43m_obj_with_exclusions\u001b[49m\u001b[43m)\u001b[49m\n\u001b[1;32m   1821\u001b[0m \u001b[38;5;66;03m# ignore SettingWithCopy here in case the user mutates\u001b[39;00m\n\u001b[1;32m   1822\u001b[0m \u001b[38;5;28;01mwith\u001b[39;00m option_context(\u001b[38;5;124m\"\u001b[39m\u001b[38;5;124mmode.chained_assignment\u001b[39m\u001b[38;5;124m\"\u001b[39m, \u001b[38;5;28;01mNone\u001b[39;00m):\n",
                        "File \u001b[0;32m/opt/homebrew/Caskroom/miniconda/base/lib/python3.12/site-packages/pandas/core/groupby/groupby.py:1885\u001b[0m, in \u001b[0;36mGroupBy._python_apply_general\u001b[0;34m(self, f, data, not_indexed_same, is_transform, is_agg)\u001b[0m\n\u001b[1;32m   1850\u001b[0m \u001b[38;5;129m@final\u001b[39m\n\u001b[1;32m   1851\u001b[0m \u001b[38;5;28;01mdef\u001b[39;00m \u001b[38;5;21m_python_apply_general\u001b[39m(\n\u001b[1;32m   1852\u001b[0m     \u001b[38;5;28mself\u001b[39m,\n\u001b[0;32m   (...)\u001b[0m\n\u001b[1;32m   1857\u001b[0m     is_agg: \u001b[38;5;28mbool\u001b[39m \u001b[38;5;241m=\u001b[39m \u001b[38;5;28;01mFalse\u001b[39;00m,\n\u001b[1;32m   1858\u001b[0m ) \u001b[38;5;241m-\u001b[39m\u001b[38;5;241m>\u001b[39m NDFrameT:\n\u001b[1;32m   1859\u001b[0m \u001b[38;5;250m    \u001b[39m\u001b[38;5;124;03m\"\"\"\u001b[39;00m\n\u001b[1;32m   1860\u001b[0m \u001b[38;5;124;03m    Apply function f in python space\u001b[39;00m\n\u001b[1;32m   1861\u001b[0m \n\u001b[0;32m   (...)\u001b[0m\n\u001b[1;32m   1883\u001b[0m \u001b[38;5;124;03m        data after applying f\u001b[39;00m\n\u001b[1;32m   1884\u001b[0m \u001b[38;5;124;03m    \"\"\"\u001b[39;00m\n\u001b[0;32m-> 1885\u001b[0m     values, mutated \u001b[38;5;241m=\u001b[39m \u001b[38;5;28;43mself\u001b[39;49m\u001b[38;5;241;43m.\u001b[39;49m\u001b[43m_grouper\u001b[49m\u001b[38;5;241;43m.\u001b[39;49m\u001b[43mapply_groupwise\u001b[49m\u001b[43m(\u001b[49m\u001b[43mf\u001b[49m\u001b[43m,\u001b[49m\u001b[43m \u001b[49m\u001b[43mdata\u001b[49m\u001b[43m,\u001b[49m\u001b[43m \u001b[49m\u001b[38;5;28;43mself\u001b[39;49m\u001b[38;5;241;43m.\u001b[39;49m\u001b[43maxis\u001b[49m\u001b[43m)\u001b[49m\n\u001b[1;32m   1886\u001b[0m     \u001b[38;5;28;01mif\u001b[39;00m not_indexed_same \u001b[38;5;129;01mis\u001b[39;00m \u001b[38;5;28;01mNone\u001b[39;00m:\n\u001b[1;32m   1887\u001b[0m         not_indexed_same \u001b[38;5;241m=\u001b[39m mutated\n",
                        "File \u001b[0;32m/opt/homebrew/Caskroom/miniconda/base/lib/python3.12/site-packages/pandas/core/groupby/ops.py:919\u001b[0m, in \u001b[0;36mBaseGrouper.apply_groupwise\u001b[0;34m(self, f, data, axis)\u001b[0m\n\u001b[1;32m    917\u001b[0m \u001b[38;5;66;03m# group might be modified\u001b[39;00m\n\u001b[1;32m    918\u001b[0m group_axes \u001b[38;5;241m=\u001b[39m group\u001b[38;5;241m.\u001b[39maxes\n\u001b[0;32m--> 919\u001b[0m res \u001b[38;5;241m=\u001b[39m \u001b[43mf\u001b[49m\u001b[43m(\u001b[49m\u001b[43mgroup\u001b[49m\u001b[43m)\u001b[49m\n\u001b[1;32m    920\u001b[0m \u001b[38;5;28;01mif\u001b[39;00m \u001b[38;5;129;01mnot\u001b[39;00m mutated \u001b[38;5;129;01mand\u001b[39;00m \u001b[38;5;129;01mnot\u001b[39;00m _is_indexed_like(res, group_axes, axis):\n\u001b[1;32m    921\u001b[0m     mutated \u001b[38;5;241m=\u001b[39m \u001b[38;5;28;01mTrue\u001b[39;00m\n",
                        "File \u001b[0;32m/opt/homebrew/Caskroom/miniconda/base/lib/python3.12/site-packages/pandas/core/groupby/groupby.py:1809\u001b[0m, in \u001b[0;36mGroupBy.apply.<locals>.f\u001b[0;34m(g)\u001b[0m\n\u001b[1;32m   1807\u001b[0m \u001b[38;5;129m@wraps\u001b[39m(func)\n\u001b[1;32m   1808\u001b[0m \u001b[38;5;28;01mdef\u001b[39;00m \u001b[38;5;21mf\u001b[39m(g):\n\u001b[0;32m-> 1809\u001b[0m     \u001b[38;5;28;01mreturn\u001b[39;00m \u001b[43mfunc\u001b[49m\u001b[43m(\u001b[49m\u001b[43mg\u001b[49m\u001b[43m,\u001b[49m\u001b[43m \u001b[49m\u001b[38;5;241;43m*\u001b[39;49m\u001b[43margs\u001b[49m\u001b[43m,\u001b[49m\u001b[43m \u001b[49m\u001b[38;5;241;43m*\u001b[39;49m\u001b[38;5;241;43m*\u001b[39;49m\u001b[43mkwargs\u001b[49m\u001b[43m)\u001b[49m\n",
                        "File \u001b[0;32m/opt/homebrew/Caskroom/miniconda/base/lib/python3.12/site-packages/seaborn/_statistics.py:492\u001b[0m, in \u001b[0;36mEstimateAggregator.__call__\u001b[0;34m(self, data, var)\u001b[0m\n\u001b[1;32m    490\u001b[0m     estimate \u001b[38;5;241m=\u001b[39m \u001b[38;5;28mself\u001b[39m\u001b[38;5;241m.\u001b[39mestimator(vals)\n\u001b[1;32m    491\u001b[0m \u001b[38;5;28;01melse\u001b[39;00m:\n\u001b[0;32m--> 492\u001b[0m     estimate \u001b[38;5;241m=\u001b[39m \u001b[43mvals\u001b[49m\u001b[38;5;241;43m.\u001b[39;49m\u001b[43magg\u001b[49m\u001b[43m(\u001b[49m\u001b[38;5;28;43mself\u001b[39;49m\u001b[38;5;241;43m.\u001b[39;49m\u001b[43mestimator\u001b[49m\u001b[43m)\u001b[49m\n\u001b[1;32m    494\u001b[0m \u001b[38;5;66;03m# Options that produce no error bars\u001b[39;00m\n\u001b[1;32m    495\u001b[0m \u001b[38;5;28;01mif\u001b[39;00m \u001b[38;5;28mself\u001b[39m\u001b[38;5;241m.\u001b[39merror_method \u001b[38;5;129;01mis\u001b[39;00m \u001b[38;5;28;01mNone\u001b[39;00m:\n",
                        "File \u001b[0;32m/opt/homebrew/Caskroom/miniconda/base/lib/python3.12/site-packages/pandas/core/series.py:4766\u001b[0m, in \u001b[0;36mSeries.aggregate\u001b[0;34m(self, func, axis, *args, **kwargs)\u001b[0m\n\u001b[1;32m   4763\u001b[0m     func \u001b[38;5;241m=\u001b[39m \u001b[38;5;28mdict\u001b[39m(kwargs\u001b[38;5;241m.\u001b[39mitems())\n\u001b[1;32m   4765\u001b[0m op \u001b[38;5;241m=\u001b[39m SeriesApply(\u001b[38;5;28mself\u001b[39m, func, args\u001b[38;5;241m=\u001b[39margs, kwargs\u001b[38;5;241m=\u001b[39mkwargs)\n\u001b[0;32m-> 4766\u001b[0m result \u001b[38;5;241m=\u001b[39m \u001b[43mop\u001b[49m\u001b[38;5;241;43m.\u001b[39;49m\u001b[43magg\u001b[49m\u001b[43m(\u001b[49m\u001b[43m)\u001b[49m\n\u001b[1;32m   4767\u001b[0m \u001b[38;5;28;01mreturn\u001b[39;00m result\n",
                        "File \u001b[0;32m/opt/homebrew/Caskroom/miniconda/base/lib/python3.12/site-packages/pandas/core/apply.py:1430\u001b[0m, in \u001b[0;36mSeriesApply.agg\u001b[0;34m(self)\u001b[0m\n\u001b[1;32m   1429\u001b[0m \u001b[38;5;28;01mdef\u001b[39;00m \u001b[38;5;21magg\u001b[39m(\u001b[38;5;28mself\u001b[39m):\n\u001b[0;32m-> 1430\u001b[0m     result \u001b[38;5;241m=\u001b[39m \u001b[38;5;28;43msuper\u001b[39;49m\u001b[43m(\u001b[49m\u001b[43m)\u001b[49m\u001b[38;5;241;43m.\u001b[39;49m\u001b[43magg\u001b[49m\u001b[43m(\u001b[49m\u001b[43m)\u001b[49m\n\u001b[1;32m   1431\u001b[0m     \u001b[38;5;28;01mif\u001b[39;00m result \u001b[38;5;129;01mis\u001b[39;00m \u001b[38;5;28;01mNone\u001b[39;00m:\n\u001b[1;32m   1432\u001b[0m         obj \u001b[38;5;241m=\u001b[39m \u001b[38;5;28mself\u001b[39m\u001b[38;5;241m.\u001b[39mobj\n",
                        "File \u001b[0;32m/opt/homebrew/Caskroom/miniconda/base/lib/python3.12/site-packages/pandas/core/apply.py:187\u001b[0m, in \u001b[0;36mApply.agg\u001b[0;34m(self)\u001b[0m\n\u001b[1;32m    184\u001b[0m kwargs \u001b[38;5;241m=\u001b[39m \u001b[38;5;28mself\u001b[39m\u001b[38;5;241m.\u001b[39mkwargs\n\u001b[1;32m    186\u001b[0m \u001b[38;5;28;01mif\u001b[39;00m \u001b[38;5;28misinstance\u001b[39m(func, \u001b[38;5;28mstr\u001b[39m):\n\u001b[0;32m--> 187\u001b[0m     \u001b[38;5;28;01mreturn\u001b[39;00m \u001b[38;5;28;43mself\u001b[39;49m\u001b[38;5;241;43m.\u001b[39;49m\u001b[43mapply_str\u001b[49m\u001b[43m(\u001b[49m\u001b[43m)\u001b[49m\n\u001b[1;32m    189\u001b[0m \u001b[38;5;28;01mif\u001b[39;00m is_dict_like(func):\n\u001b[1;32m    190\u001b[0m     \u001b[38;5;28;01mreturn\u001b[39;00m \u001b[38;5;28mself\u001b[39m\u001b[38;5;241m.\u001b[39magg_dict_like()\n",
                        "File \u001b[0;32m/opt/homebrew/Caskroom/miniconda/base/lib/python3.12/site-packages/pandas/core/apply.py:603\u001b[0m, in \u001b[0;36mApply.apply_str\u001b[0;34m(self)\u001b[0m\n\u001b[1;32m    601\u001b[0m         \u001b[38;5;28;01melse\u001b[39;00m:\n\u001b[1;32m    602\u001b[0m             \u001b[38;5;28mself\u001b[39m\u001b[38;5;241m.\u001b[39mkwargs[\u001b[38;5;124m\"\u001b[39m\u001b[38;5;124maxis\u001b[39m\u001b[38;5;124m\"\u001b[39m] \u001b[38;5;241m=\u001b[39m \u001b[38;5;28mself\u001b[39m\u001b[38;5;241m.\u001b[39maxis\n\u001b[0;32m--> 603\u001b[0m \u001b[38;5;28;01mreturn\u001b[39;00m \u001b[38;5;28;43mself\u001b[39;49m\u001b[38;5;241;43m.\u001b[39;49m\u001b[43m_apply_str\u001b[49m\u001b[43m(\u001b[49m\u001b[43mobj\u001b[49m\u001b[43m,\u001b[49m\u001b[43m \u001b[49m\u001b[43mfunc\u001b[49m\u001b[43m,\u001b[49m\u001b[43m \u001b[49m\u001b[38;5;241;43m*\u001b[39;49m\u001b[38;5;28;43mself\u001b[39;49m\u001b[38;5;241;43m.\u001b[39;49m\u001b[43margs\u001b[49m\u001b[43m,\u001b[49m\u001b[43m \u001b[49m\u001b[38;5;241;43m*\u001b[39;49m\u001b[38;5;241;43m*\u001b[39;49m\u001b[38;5;28;43mself\u001b[39;49m\u001b[38;5;241;43m.\u001b[39;49m\u001b[43mkwargs\u001b[49m\u001b[43m)\u001b[49m\n",
                        "File \u001b[0;32m/opt/homebrew/Caskroom/miniconda/base/lib/python3.12/site-packages/pandas/core/apply.py:693\u001b[0m, in \u001b[0;36mApply._apply_str\u001b[0;34m(self, obj, func, *args, **kwargs)\u001b[0m\n\u001b[1;32m    691\u001b[0m f \u001b[38;5;241m=\u001b[39m \u001b[38;5;28mgetattr\u001b[39m(obj, func)\n\u001b[1;32m    692\u001b[0m \u001b[38;5;28;01mif\u001b[39;00m \u001b[38;5;28mcallable\u001b[39m(f):\n\u001b[0;32m--> 693\u001b[0m     \u001b[38;5;28;01mreturn\u001b[39;00m \u001b[43mf\u001b[49m\u001b[43m(\u001b[49m\u001b[38;5;241;43m*\u001b[39;49m\u001b[43margs\u001b[49m\u001b[43m,\u001b[49m\u001b[43m \u001b[49m\u001b[38;5;241;43m*\u001b[39;49m\u001b[38;5;241;43m*\u001b[39;49m\u001b[43mkwargs\u001b[49m\u001b[43m)\u001b[49m\n\u001b[1;32m    695\u001b[0m \u001b[38;5;66;03m# people may aggregate on a non-callable attribute\u001b[39;00m\n\u001b[1;32m    696\u001b[0m \u001b[38;5;66;03m# but don't let them think they can pass args to it\u001b[39;00m\n\u001b[1;32m    697\u001b[0m \u001b[38;5;28;01massert\u001b[39;00m \u001b[38;5;28mlen\u001b[39m(args) \u001b[38;5;241m==\u001b[39m \u001b[38;5;241m0\u001b[39m\n",
                        "File \u001b[0;32m/opt/homebrew/Caskroom/miniconda/base/lib/python3.12/site-packages/pandas/core/series.py:6549\u001b[0m, in \u001b[0;36mSeries.mean\u001b[0;34m(self, axis, skipna, numeric_only, **kwargs)\u001b[0m\n\u001b[1;32m   6541\u001b[0m \u001b[38;5;129m@doc\u001b[39m(make_doc(\u001b[38;5;124m\"\u001b[39m\u001b[38;5;124mmean\u001b[39m\u001b[38;5;124m\"\u001b[39m, ndim\u001b[38;5;241m=\u001b[39m\u001b[38;5;241m1\u001b[39m))\n\u001b[1;32m   6542\u001b[0m \u001b[38;5;28;01mdef\u001b[39;00m \u001b[38;5;21mmean\u001b[39m(\n\u001b[1;32m   6543\u001b[0m     \u001b[38;5;28mself\u001b[39m,\n\u001b[0;32m   (...)\u001b[0m\n\u001b[1;32m   6547\u001b[0m     \u001b[38;5;241m*\u001b[39m\u001b[38;5;241m*\u001b[39mkwargs,\n\u001b[1;32m   6548\u001b[0m ):\n\u001b[0;32m-> 6549\u001b[0m     \u001b[38;5;28;01mreturn\u001b[39;00m \u001b[43mNDFrame\u001b[49m\u001b[38;5;241;43m.\u001b[39;49m\u001b[43mmean\u001b[49m\u001b[43m(\u001b[49m\u001b[38;5;28;43mself\u001b[39;49m\u001b[43m,\u001b[49m\u001b[43m \u001b[49m\u001b[43maxis\u001b[49m\u001b[43m,\u001b[49m\u001b[43m \u001b[49m\u001b[43mskipna\u001b[49m\u001b[43m,\u001b[49m\u001b[43m \u001b[49m\u001b[43mnumeric_only\u001b[49m\u001b[43m,\u001b[49m\u001b[43m \u001b[49m\u001b[38;5;241;43m*\u001b[39;49m\u001b[38;5;241;43m*\u001b[39;49m\u001b[43mkwargs\u001b[49m\u001b[43m)\u001b[49m\n",
                        "File \u001b[0;32m/opt/homebrew/Caskroom/miniconda/base/lib/python3.12/site-packages/pandas/core/generic.py:12420\u001b[0m, in \u001b[0;36mNDFrame.mean\u001b[0;34m(self, axis, skipna, numeric_only, **kwargs)\u001b[0m\n\u001b[1;32m  12413\u001b[0m \u001b[38;5;28;01mdef\u001b[39;00m \u001b[38;5;21mmean\u001b[39m(\n\u001b[1;32m  12414\u001b[0m     \u001b[38;5;28mself\u001b[39m,\n\u001b[1;32m  12415\u001b[0m     axis: Axis \u001b[38;5;241m|\u001b[39m \u001b[38;5;28;01mNone\u001b[39;00m \u001b[38;5;241m=\u001b[39m \u001b[38;5;241m0\u001b[39m,\n\u001b[0;32m   (...)\u001b[0m\n\u001b[1;32m  12418\u001b[0m     \u001b[38;5;241m*\u001b[39m\u001b[38;5;241m*\u001b[39mkwargs,\n\u001b[1;32m  12419\u001b[0m ) \u001b[38;5;241m-\u001b[39m\u001b[38;5;241m>\u001b[39m Series \u001b[38;5;241m|\u001b[39m \u001b[38;5;28mfloat\u001b[39m:\n\u001b[0;32m> 12420\u001b[0m     \u001b[38;5;28;01mreturn\u001b[39;00m \u001b[38;5;28;43mself\u001b[39;49m\u001b[38;5;241;43m.\u001b[39;49m\u001b[43m_stat_function\u001b[49m\u001b[43m(\u001b[49m\n\u001b[1;32m  12421\u001b[0m \u001b[43m        \u001b[49m\u001b[38;5;124;43m\"\u001b[39;49m\u001b[38;5;124;43mmean\u001b[39;49m\u001b[38;5;124;43m\"\u001b[39;49m\u001b[43m,\u001b[49m\u001b[43m \u001b[49m\u001b[43mnanops\u001b[49m\u001b[38;5;241;43m.\u001b[39;49m\u001b[43mnanmean\u001b[49m\u001b[43m,\u001b[49m\u001b[43m \u001b[49m\u001b[43maxis\u001b[49m\u001b[43m,\u001b[49m\u001b[43m \u001b[49m\u001b[43mskipna\u001b[49m\u001b[43m,\u001b[49m\u001b[43m \u001b[49m\u001b[43mnumeric_only\u001b[49m\u001b[43m,\u001b[49m\u001b[43m \u001b[49m\u001b[38;5;241;43m*\u001b[39;49m\u001b[38;5;241;43m*\u001b[39;49m\u001b[43mkwargs\u001b[49m\n\u001b[1;32m  12422\u001b[0m \u001b[43m    \u001b[49m\u001b[43m)\u001b[49m\n",
                        "File \u001b[0;32m/opt/homebrew/Caskroom/miniconda/base/lib/python3.12/site-packages/pandas/core/generic.py:12377\u001b[0m, in \u001b[0;36mNDFrame._stat_function\u001b[0;34m(self, name, func, axis, skipna, numeric_only, **kwargs)\u001b[0m\n\u001b[1;32m  12373\u001b[0m nv\u001b[38;5;241m.\u001b[39mvalidate_func(name, (), kwargs)\n\u001b[1;32m  12375\u001b[0m validate_bool_kwarg(skipna, \u001b[38;5;124m\"\u001b[39m\u001b[38;5;124mskipna\u001b[39m\u001b[38;5;124m\"\u001b[39m, none_allowed\u001b[38;5;241m=\u001b[39m\u001b[38;5;28;01mFalse\u001b[39;00m)\n\u001b[0;32m> 12377\u001b[0m \u001b[38;5;28;01mreturn\u001b[39;00m \u001b[38;5;28;43mself\u001b[39;49m\u001b[38;5;241;43m.\u001b[39;49m\u001b[43m_reduce\u001b[49m\u001b[43m(\u001b[49m\n\u001b[1;32m  12378\u001b[0m \u001b[43m    \u001b[49m\u001b[43mfunc\u001b[49m\u001b[43m,\u001b[49m\u001b[43m \u001b[49m\u001b[43mname\u001b[49m\u001b[38;5;241;43m=\u001b[39;49m\u001b[43mname\u001b[49m\u001b[43m,\u001b[49m\u001b[43m \u001b[49m\u001b[43maxis\u001b[49m\u001b[38;5;241;43m=\u001b[39;49m\u001b[43maxis\u001b[49m\u001b[43m,\u001b[49m\u001b[43m \u001b[49m\u001b[43mskipna\u001b[49m\u001b[38;5;241;43m=\u001b[39;49m\u001b[43mskipna\u001b[49m\u001b[43m,\u001b[49m\u001b[43m \u001b[49m\u001b[43mnumeric_only\u001b[49m\u001b[38;5;241;43m=\u001b[39;49m\u001b[43mnumeric_only\u001b[49m\n\u001b[1;32m  12379\u001b[0m \u001b[43m\u001b[49m\u001b[43m)\u001b[49m\n",
                        "File \u001b[0;32m/opt/homebrew/Caskroom/miniconda/base/lib/python3.12/site-packages/pandas/core/series.py:6457\u001b[0m, in \u001b[0;36mSeries._reduce\u001b[0;34m(self, op, name, axis, skipna, numeric_only, filter_type, **kwds)\u001b[0m\n\u001b[1;32m   6452\u001b[0m     \u001b[38;5;66;03m# GH#47500 - change to TypeError to match other methods\u001b[39;00m\n\u001b[1;32m   6453\u001b[0m     \u001b[38;5;28;01mraise\u001b[39;00m \u001b[38;5;167;01mTypeError\u001b[39;00m(\n\u001b[1;32m   6454\u001b[0m         \u001b[38;5;124mf\u001b[39m\u001b[38;5;124m\"\u001b[39m\u001b[38;5;124mSeries.\u001b[39m\u001b[38;5;132;01m{\u001b[39;00mname\u001b[38;5;132;01m}\u001b[39;00m\u001b[38;5;124m does not allow \u001b[39m\u001b[38;5;132;01m{\u001b[39;00mkwd_name\u001b[38;5;132;01m}\u001b[39;00m\u001b[38;5;124m=\u001b[39m\u001b[38;5;132;01m{\u001b[39;00mnumeric_only\u001b[38;5;132;01m}\u001b[39;00m\u001b[38;5;124m \u001b[39m\u001b[38;5;124m\"\u001b[39m\n\u001b[1;32m   6455\u001b[0m         \u001b[38;5;124m\"\u001b[39m\u001b[38;5;124mwith non-numeric dtypes.\u001b[39m\u001b[38;5;124m\"\u001b[39m\n\u001b[1;32m   6456\u001b[0m     )\n\u001b[0;32m-> 6457\u001b[0m \u001b[38;5;28;01mreturn\u001b[39;00m \u001b[43mop\u001b[49m\u001b[43m(\u001b[49m\u001b[43mdelegate\u001b[49m\u001b[43m,\u001b[49m\u001b[43m \u001b[49m\u001b[43mskipna\u001b[49m\u001b[38;5;241;43m=\u001b[39;49m\u001b[43mskipna\u001b[49m\u001b[43m,\u001b[49m\u001b[43m \u001b[49m\u001b[38;5;241;43m*\u001b[39;49m\u001b[38;5;241;43m*\u001b[39;49m\u001b[43mkwds\u001b[49m\u001b[43m)\u001b[49m\n",
                        "File \u001b[0;32m/opt/homebrew/Caskroom/miniconda/base/lib/python3.12/site-packages/pandas/core/nanops.py:111\u001b[0m, in \u001b[0;36mbottleneck_switch.__call__.<locals>.f\u001b[0;34m(values, axis, skipna, **kwds)\u001b[0m\n\u001b[1;32m    108\u001b[0m \u001b[38;5;28;01mexcept\u001b[39;00m (\u001b[38;5;167;01mAttributeError\u001b[39;00m, \u001b[38;5;167;01mNameError\u001b[39;00m):  \u001b[38;5;66;03m# pragma: no cover\u001b[39;00m\n\u001b[1;32m    109\u001b[0m     bn_func \u001b[38;5;241m=\u001b[39m \u001b[38;5;28;01mNone\u001b[39;00m\n\u001b[0;32m--> 111\u001b[0m \u001b[38;5;129m@functools\u001b[39m\u001b[38;5;241m.\u001b[39mwraps(alt)\n\u001b[1;32m    112\u001b[0m \u001b[38;5;28;01mdef\u001b[39;00m \u001b[38;5;21mf\u001b[39m(\n\u001b[1;32m    113\u001b[0m     values: np\u001b[38;5;241m.\u001b[39mndarray,\n\u001b[1;32m    114\u001b[0m     \u001b[38;5;241m*\u001b[39m,\n\u001b[1;32m    115\u001b[0m     axis: AxisInt \u001b[38;5;241m|\u001b[39m \u001b[38;5;28;01mNone\u001b[39;00m \u001b[38;5;241m=\u001b[39m \u001b[38;5;28;01mNone\u001b[39;00m,\n\u001b[1;32m    116\u001b[0m     skipna: \u001b[38;5;28mbool\u001b[39m \u001b[38;5;241m=\u001b[39m \u001b[38;5;28;01mTrue\u001b[39;00m,\n\u001b[1;32m    117\u001b[0m     \u001b[38;5;241m*\u001b[39m\u001b[38;5;241m*\u001b[39mkwds,\n\u001b[1;32m    118\u001b[0m ):\n\u001b[1;32m    119\u001b[0m     \u001b[38;5;28;01mif\u001b[39;00m \u001b[38;5;28mlen\u001b[39m(\u001b[38;5;28mself\u001b[39m\u001b[38;5;241m.\u001b[39mkwargs) \u001b[38;5;241m>\u001b[39m \u001b[38;5;241m0\u001b[39m:\n\u001b[1;32m    120\u001b[0m         \u001b[38;5;28;01mfor\u001b[39;00m k, v \u001b[38;5;129;01min\u001b[39;00m \u001b[38;5;28mself\u001b[39m\u001b[38;5;241m.\u001b[39mkwargs\u001b[38;5;241m.\u001b[39mitems():\n",
                        "\u001b[0;31mKeyboardInterrupt\u001b[0m: "
                    ]
                },
                {
                    "data": {
                        "image/png": "[encoded data removed]",
                        "text/plain": [
                            "<Figure size 1500x1000 with 1 Axes>"
                        ]
                    },
                    "metadata": {},
                    "output_type": "display_data"
                }
            ],
            "source": [
                "smart = fetch_scd30_ppm_smart()\n",
                "smart['type'] = 'smart'\n",
                "original = fetch_scd30_ppm()\n",
                "original['type'] = 'original'\n",
                "print(len(smart), len(original))\n",
                "graph = pd.concat([original, smart], ignore_index=True)\n",
                "sns.lineplot(data=graph, x='received_at', y='sensor_value', hue='type')"
            ]
        },
        {
            "cell_type": "code",
            "execution_count": null,
            "metadata": {},
            "outputs": [
                {
                    "data": {
                        "application/vnd.jupyter.widget-view+json": {
                            "model_id": "29a7dc8034ca4bb6b76e75732740fa1e",
                            "version_major": 2,
                            "version_minor": 0
                        },
                        "text/plain": [
                            "interactive(children=(IntSlider(value=5000, description='limit', max=10000, step=100), Output()), _dom_classes…"
                        ]
                    },
                    "metadata": {},
                    "output_type": "display_data"
                }
            ],
            "source": [
                "from ipywidgets import interact\n",
                "\n",
                "original = fetch_scd30_ppm()\n",
                "original['type'] = 'original'\n",
                "\n",
                "@interact\n",
                "def interactive_chart(limit=(0, 10000, 100)):\n",
                "    limit = max(2, limit)\n",
                "    smart = fetch_scd30_ppm_smart(limit=limit)\n",
                "    smart['type'] = 'smart'\n",
                "\n",
                "    graph = pd.concat([original, smart], ignore_index=True)\n",
                "\n",
                "    plt.figure(figsize=(12, 6))\n",
                "    sns.lineplot(data=graph, x='received_at', y='sensor_value', hue='type')\n",
                "    plt.title(f'Chart with top {limit} points')\n",
                "    plt.show()"
            ]
        },
        {
            "cell_type": "code",
            "execution_count": 16,
            "metadata": {},
            "outputs": [
                {
                    "data": {
                        "application/vnd.jupyter.widget-view+json": {
                            "model_id": "a0d14c74093040b897bcef39b27aa396",
                            "version_major": 2,
                            "version_minor": 0
                        },
                        "text/plain": [
                            "interactive(children=(IntSlider(value=1500, description='limit', max=3000), Output()), _dom_classes=('widget-i…"
                        ]
                    },
                    "metadata": {},
                    "output_type": "display_data"
                }
            ],
            "source": [
                "from ipywidgets import interact\n",
                "\n",
                "@interact\n",
                "def interactive_chart(limit=(0, 3000, 1)):\n",
                "    limit = max(2, limit)\n",
                "    smart = fetch_scd30_ppm_smart(limit=limit)\n",
                "\n",
                "    plt.figure(figsize=(12, 6))\n",
                "    sns.lineplot(data=smart, x='received_at', y='sensor_value')\n",
                "    plt.title(f'Chart with top {len(smart)} points')\n",
                "    plt.show()"
            ]
        },
        {
            "cell_type": "code",
            "execution_count": null,
            "metadata": {},
            "outputs": [],
            "source": [
                "#process_weights()"
            ]
        }
    ],
    "metadata": {
        "interpreter": {
            "hash": "c7509e2d30a69c0d6453c004c8c279db9db69b9204abb78224cf08720a2badfc"
        },
        "kernelspec": {
            "display_name": "Python 3.8.3 ('torch')",
            "language": "python",
            "name": "python3"
        },
        "language_info": {
            "codemirror_mode": {
                "name": "ipython",
                "version": 3
            },
            "file_extension": ".py",
            "mimetype": "text/x-python",
            "name": "python",
            "nbconvert_exporter": "python",
            "pygments_lexer": "ipython3",
            "version": "3.12.2"
        },
        "orig_nbformat": 4
    },
    "nbformat": 4,
    "nbformat_minor": 2
}
